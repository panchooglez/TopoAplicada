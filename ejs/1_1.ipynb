{
 "cells": [
  {
   "cell_type": "markdown",
   "metadata": {},
   "source": [
    "Clase ComplejoSimplicial con sus métodos principales"
   ]
  },
  {
   "cell_type": "code",
   "execution_count": 302,
   "metadata": {},
   "outputs": [],
   "source": [
    "from itertools import chain, combinations\n",
    "\n",
    "class ComplejoSimplicial:\n",
    "\n",
    "    def __init__(self, sim_maximales):\n",
    "        \"\"\"\n",
    "        Inicializa el complejo simplicial tomando como argumento lo que serían los maximales del poset\n",
    "        \"\"\"\n",
    "        self.simplices = dict()\n",
    "        self.simplices_ordenados = [] # Nuevo atributo para guardar los simplices ordenados por flotante y dimensión\n",
    "        sim_derivados = self.derivar_simplices(sim_maximales)\n",
    "        for sim in sim_derivados:\n",
    "            if isinstance(sim, int):\n",
    "                dim = 0\n",
    "            else:    \n",
    "                dim = len(sim)-1\n",
    "            if dim not in self.simplices:\n",
    "                self.simplices[dim] = set()\n",
    "            self.simplices[dim].add(sim)\n",
    "\n",
    "    def derivar_simplices(self, simplices_maximales):\n",
    "        \"\"\"\n",
    "        Genera el complejo simplicial tomando todos los subconjuntos de los símplices maximales.\n",
    "        \n",
    "        Args:\n",
    "        simplices_maximales (list of tuples): Lista de símplices maximales.\n",
    "        \n",
    "        Returns:\n",
    "        set: El conjunto de todos los símplices en el complejo simplicial.\n",
    "        \"\"\"\n",
    "        complejo = set()\n",
    "        for simplice in simplices_maximales:\n",
    "            complejo.update(self.potencia(simplice))\n",
    "        return complejo\n",
    "    \n",
    "    def potencia(self, simplice):\n",
    "        \"\"\"\n",
    "        Genera todos los subconjuntos(caras) de un simplice (incluido el propio simplice).\n",
    "        \n",
    "        Args:\n",
    "        simplice (tuple): Un simplice representado como una tupla de vértices.\n",
    "        \n",
    "        Returns:\n",
    "        set: Conjunto de todos los subconjuntos del simplice.\n",
    "        \"\"\"\n",
    "        return set(chain.from_iterable(combinations(simplice, r) for r in range(len(simplice) + 1)))\n",
    "    \n",
    "    def insert(self, simplices, value):\n",
    "        \"\"\"\n",
    "        Añade nuevos símplices al complejo simplicial con un valor flotante asociado.\n",
    "        \n",
    "        Args:\n",
    "        simplices (list of tuples): Lista de símplices representados como tuplas de vértices.\n",
    "        value (float): Valor flotante a asociar con cada simplice.\n",
    "        \"\"\"\n",
    "        for simplice in simplices:\n",
    "            nuevos_simplices = self.potencia(simplice)\n",
    "            for sim in nuevos_simplices:\n",
    "                if isinstance(sim, int):\n",
    "                    dim = 0\n",
    "                else:\n",
    "                    dim = len(sim) - 1\n",
    "                if dim not in self.simplices:\n",
    "                    self.simplices[dim] = set()\n",
    "                self.simplices[dim].add((sim, value))\n",
    "                # Añadir a la lista de simplices ordenados\n",
    "                self.simplices_ordenados.append((sim, dim, value))\n",
    "\n",
    "        # Ordenar los símplices primero por valor flotante, luego por dimensión\n",
    "        self.simplices_ordenados.sort(key=lambda x: (x[2], x[1]))\n",
    "\n",
    "    def filtracion(self, umbral):\n",
    "        \"\"\"\n",
    "        Devuelve un nuevo complejo simplicial formado por todos los símplices cuyo valor flotante asociado \n",
    "        sea menor o igual que el flotante dado.\n",
    "        \n",
    "        Args:\n",
    "        umbral (float): El valor máximo del flotante permitido en la filtración.\n",
    "        \n",
    "        Returns:\n",
    "        ComplejoSimplicial: Un nuevo complejo simplicial con simplices filtrados.\n",
    "        \"\"\"\n",
    "        simplices_filtrados = []\n",
    "        for simplice, dim, value in self.simplices_ordenados:\n",
    "            if value <= umbral:\n",
    "                simplices_filtrados.append(simplice)\n",
    "        \n",
    "        # Crear un nuevo complejo simplicial con los símplices filtrados\n",
    "        return ComplejoSimplicial(simplices_filtrados)\n",
    "  \n",
    "    def dim(self):\n",
    "        \"\"\"\n",
    "        Devuelve la dimension del complejo simplicial, que es el maximo de las dimensiones de los simplices.\n",
    "        \"\"\"\n",
    "        return max(self.simplices.keys())\n",
    "\n",
    "    \n",
    "    def caras(self, dim):\n",
    "        \"\"\"\n",
    "        Devuelve una lista con las caras de un complejo simplicial para una dimension dada\n",
    "        \"\"\"\n",
    "        caras = []\n",
    "        for cara in self.simplices[dim]:\n",
    "            caras.append(cara)\n",
    "        return caras\n",
    "\n",
    "    \n",
    "    def face_set(self):\n",
    "        \"\"\"\n",
    "        Devuelve todas las caras del complejo simplicial, ignorando los flotantes asociados.\n",
    "        \"\"\"\n",
    "        def extract_simplice(simplice):\n",
    "            # Si el simplice es una tupla no vacía con un flotante, extrae solo la parte entera\n",
    "            if isinstance(simplice, tuple) and len(simplice) > 0 and isinstance(simplice[-1], float):\n",
    "                return simplice[:-1]\n",
    "            return simplice\n",
    "    \n",
    "        caras = set()\n",
    "        for dim in self.simplices:\n",
    "            for cara in self.simplices[dim]:\n",
    "                caras.add(extract_simplice(cara))\n",
    "\n",
    "        # Eliminar el conjunto vacío\n",
    "        return set(cara for cara in caras if cara != ())\n",
    "\n",
    "    def estrella(self, simplice):\n",
    "        \"\"\"\n",
    "        Devuelve la estrella de un simplice dado\n",
    "        Se buscan las caras que contienen completamente a dicho simplice\n",
    "        \"\"\"\n",
    "        simplice = set(simplice)  # Convertimos el simplice en un conjunto(set), para poder hacer intersecciones\n",
    "        # Caras cuya intersección con el simplice es el simplice\n",
    "        return set(cara for cara in self.face_set() if simplice.intersection(cara) == simplice)\n",
    "    \n",
    "    \n",
    "    def estrella_cerrada(self, simplex):\n",
    "        \"\"\"\n",
    "        Devuelve la estrella cerrada de un simplice dado.\n",
    "        La estrella cerrada es el menor subcomplejo simplicial que contiene a la estrella de un simplice dado.\n",
    "        \"\"\"\n",
    "        # Obtenemos la estrella del simplex dado\n",
    "        estrella = self.estrella(simplex)\n",
    "        # Inicializamos la estrella cerrada como un conjunto vacío\n",
    "        estrella_cerrada = set()\n",
    "        cubiertos = set()  # Para rastrear qué simplices de la estrella están cubiertos\n",
    "        \n",
    "        # Recorremos todos los símplices de menor a mayor dimensión\n",
    "        for dim in sorted(self.simplices.keys()):\n",
    "            for cara in self.simplices[dim]:\n",
    "                cara_set = set(cara)\n",
    "                \n",
    "                # Verificamos si la cara cubre algunos simplices de la estrella\n",
    "                if any(set(s).issubset(cara_set) for s in estrella):\n",
    "                    estrella_cerrada.add(cara)\n",
    "                    # Actualizamos los simplices de la estrella que están cubiertos\n",
    "                    cubiertos.update(s for s in estrella if set(s).issubset(cara_set))\n",
    "                \n",
    "                # Si ya hemos cubierto todos los simplices de la estrella, podemos detenernos\n",
    "                if cubiertos == estrella:\n",
    "                    break\n",
    "        \n",
    "        return estrella_cerrada\n",
    "  \n",
    "    \n",
    "    def link(self, simplice):\n",
    "        \"\"\"\n",
    "        Devuelve el link del simplice dado\n",
    "        El link de un simplice es el conjunto de simplices de la estrella cerrada con interseccion vacia con el simplice.\n",
    "        \"\"\"\n",
    "        # Obtenemos la estrella cerrada del simplice.\n",
    "        estrella_cer = self.estrella_cerrada(simplice)\n",
    "        # Convertimos en complejo simplicial, para poder obtener todas sus  con face_set()\n",
    "        ec = ComplejoSimplicial(estrella_cer)\n",
    "        # Nos quedamos con los simplices de la estrella cerrada que no intersecan con el simplice del que queremos obtener el link\n",
    "        return set(cara for cara in ec.face_set() if not set(simplice).intersection(cara))\n",
    "\n",
    "    \n",
    "    def print_caras(self):\n",
    "        \"\"\"\n",
    "        Permite printear el complejo simplicial por dimensiones\n",
    "        \"\"\"\n",
    "        dim = self.dim()\n",
    "        for i in range(0,dim+1):\n",
    "            print(\"Caras de dim: \", i)\n",
    "            d_caras = self.caras(i)\n",
    "            for cara in d_caras:\n",
    "                print(cara)\n",
    "    \n",
    "    \n",
    "    def carac_euler(self):\n",
    "        \"\"\"\n",
    "        Calcula la característica de Euler del complejo simplicial.\n",
    "        Consiste en la suma alternante de los números de simplices de cada dimensión.\n",
    "        \"\"\"\n",
    "        \"\"\" dim = self.dim()\n",
    "        res = 0\n",
    "        for i in range(0, dim+1):\n",
    "            if i % 2 == 0:\n",
    "                res += len(self.simplices[dim])\n",
    "            else:\n",
    "                res -= len(self.simplices[dim])\n",
    "        return res \"\"\"\n",
    "        # Forma más eficiente\n",
    "        return sum((-1)**k * len(self.simplices[k]) for k in range(self.dim()+1))\n",
    "    \n",
    "\n",
    "    def num_componentes_conexas(self):\n",
    "        \"\"\"\n",
    "        Devuelve el número de componentes conexas del complejo simplicial\n",
    "        \"\"\"\n",
    "        n = 0\n",
    "        vertices = list(self.simplices[0])\n",
    "        aristas = self.simplices[1]\n",
    "\n",
    "        v_conexos = []\n",
    "        v_inconexos = []\n",
    "        v0 = vertices[0]\n",
    "\n",
    "        while True:\n",
    "            #print('hola')\n",
    "            for v in vertices[:]:\n",
    "                print(f\"v0: {v0}, v: {v}, existe_camino: {self.existe_camino(v0[0], v[0], aristas)}\")\n",
    "                if self.existe_camino(v0[0], v[0], aristas):\n",
    "                    v_conexos.append(v)\n",
    "                    vertices.remove(v)\n",
    "                else:\n",
    "                    v_inconexos.append(v)\n",
    "            \n",
    "            n += 1\n",
    "            if len(vertices) == 0:\n",
    "                return n\n",
    "            v0 = vertices[0]\n",
    "            v_conexos = []\n",
    "            v_inconexos = []\n",
    "\n",
    "\n",
    "    def existe_camino(self, v, u, aristas):\n",
    "        #print(aristas)\n",
    "        # Crear el grafo como un diccionario de adyacencia\n",
    "        grafo = dict()\n",
    "        \n",
    "        # Construir el diccionario de adyacencia a partir de las aristas\n",
    "        for v1, v2 in aristas:\n",
    "            if v1 not in grafo.keys():\n",
    "                grafo[v1] = []\n",
    "            if v2 not in grafo:\n",
    "                grafo[v2] = []\n",
    "            grafo[v1].append(v2)\n",
    "            grafo[v2].append(v1)  # Como es un grafo no dirigido, añadir ambas conexiones\n",
    "\n",
    "        # Función recursiva para la búsqueda en profundidad (DFS)\n",
    "        def bep(vertice, visitados):\n",
    "            if vertice == u:\n",
    "                return True\n",
    "            visitados.append(vertice)  # Marcar el vértice como visitado\n",
    "            # Recorrer los vecinos\n",
    "            if vertice in grafo.keys():\n",
    "                for vecino in grafo[vertice]:  # Obtener vecinos del vértice\n",
    "                    if vecino not in visitados:  # Solo visitar los no visitados\n",
    "                        if bep(vecino, visitados):\n",
    "                            return True\n",
    "            \n",
    "            return False\n",
    "        \n",
    "        return bep(v, list())\n",
    "    \n",
    "    def skeleton(self, k):\n",
    "        \"\"\"\n",
    "        Devuelve el esqueleto de dimensión k del complejo simplicial.\n",
    "        \n",
    "        Args:\n",
    "        k (int): La dimensión máxima de los simplices en el esqueleto.\n",
    "        \n",
    "        Returns:\n",
    "        ComplejoSimplicial: Un nuevo complejo simplicial que es el esqueleto de dimensión k.\n",
    "        \"\"\"\n",
    "        # Recopilar todas las caras de dimensión k o menor\n",
    "        caras_k_o_menor = set()\n",
    "        for dim in range(k + 1):\n",
    "            if dim in self.simplices:\n",
    "                caras_k_o_menor.update(self.simplices[dim])\n",
    "        \n",
    "        # Crear un nuevo complejo simplicial con estas caras\n",
    "        return ComplejoSimplicial(list(caras_k_o_menor))\n",
    "    \n",
    "    def treshold(self, simplice):\n",
    "        \"\"\"\n",
    "        Devuelve el valor mínimo asociado al simplice dado (donde el simplice aparece por primera vez).\n",
    "        \n",
    "        Args:\n",
    "        simplice (tuple): Un simplice representado como una tupla de vértices.\n",
    "        \n",
    "        Returns:\n",
    "        float: El valor flotante mínimo asociado al simplice, o None si no se encuentra.\n",
    "        \"\"\"\n",
    "        min_value = None\n",
    "        \n",
    "        for dim in self.simplices:\n",
    "            for cara in self.simplices[dim]:\n",
    "                if isinstance(cara, tuple) and set(simplice).issubset(cara[0]):\n",
    "                    value = cara[1]\n",
    "                    # Guardamos el valor mínimo\n",
    "                    if min_value is None or value < min_value:\n",
    "                        min_value = value\n",
    "                        \n",
    "        return min_value\n",
    "\n"
   ]
  },
  {
   "cell_type": "markdown",
   "metadata": {},
   "source": [
    "EJEMPLO 1: Tetraedro"
   ]
  },
  {
   "cell_type": "code",
   "execution_count": 303,
   "metadata": {},
   "outputs": [],
   "source": [
    "# Definimos un complejo simplicial\n",
    "sc = ComplejoSimplicial([(0,1,2,3)])"
   ]
  },
  {
   "cell_type": "code",
   "execution_count": 304,
   "metadata": {},
   "outputs": [
    {
     "name": "stdout",
     "output_type": "stream",
     "text": [
      "Caras de dim:  0\n",
      "(0,)\n",
      "(1,)\n",
      "(2,)\n",
      "(3,)\n",
      "Caras de dim:  1\n",
      "(0, 1)\n",
      "(1, 2)\n",
      "(0, 3)\n",
      "(2, 3)\n",
      "(0, 2)\n",
      "(1, 3)\n",
      "Caras de dim:  2\n",
      "(0, 1, 2)\n",
      "(0, 1, 3)\n",
      "(1, 2, 3)\n",
      "(0, 2, 3)\n",
      "Caras de dim:  3\n",
      "(0, 1, 2, 3)\n"
     ]
    }
   ],
   "source": [
    "# Conjunto de todas las caras del complejo simplicial\n",
    "sc.print_caras()"
   ]
  },
  {
   "cell_type": "code",
   "execution_count": 305,
   "metadata": {},
   "outputs": [
    {
     "data": {
      "text/plain": [
       "3"
      ]
     },
     "execution_count": 305,
     "metadata": {},
     "output_type": "execute_result"
    }
   ],
   "source": [
    "# Dimensión del complejo simplicial\n",
    "sc.dim()"
   ]
  },
  {
   "cell_type": "code",
   "execution_count": 306,
   "metadata": {},
   "outputs": [
    {
     "data": {
      "text/plain": [
       "[(0,), (1,), (2,), (3,)]"
      ]
     },
     "execution_count": 306,
     "metadata": {},
     "output_type": "execute_result"
    }
   ],
   "source": [
    "# Vértices del complejo simplicial\n",
    "sc.caras(0)"
   ]
  },
  {
   "cell_type": "code",
   "execution_count": 307,
   "metadata": {},
   "outputs": [
    {
     "data": {
      "text/plain": [
       "[(0, 1), (1, 2), (0, 3), (2, 3), (0, 2), (1, 3)]"
      ]
     },
     "execution_count": 307,
     "metadata": {},
     "output_type": "execute_result"
    }
   ],
   "source": [
    "# Aristas del complejo simplicial\n",
    "sc.caras(1)"
   ]
  },
  {
   "cell_type": "code",
   "execution_count": 308,
   "metadata": {},
   "outputs": [
    {
     "data": {
      "text/plain": [
       "[(0, 1, 2), (0, 1, 3), (1, 2, 3), (0, 2, 3)]"
      ]
     },
     "execution_count": 308,
     "metadata": {},
     "output_type": "execute_result"
    }
   ],
   "source": [
    "# 2-símplices del complejo simplicial\n",
    "sc.caras(2)"
   ]
  },
  {
   "cell_type": "code",
   "execution_count": 309,
   "metadata": {},
   "outputs": [
    {
     "data": {
      "text/plain": [
       "[(0, 1, 2, 3)]"
      ]
     },
     "execution_count": 309,
     "metadata": {},
     "output_type": "execute_result"
    }
   ],
   "source": [
    "# 3-símplices del complejo simplicial\n",
    "sc.caras(3)"
   ]
  },
  {
   "cell_type": "code",
   "execution_count": 310,
   "metadata": {},
   "outputs": [
    {
     "data": {
      "text/plain": [
       "1"
      ]
     },
     "execution_count": 310,
     "metadata": {},
     "output_type": "execute_result"
    }
   ],
   "source": [
    "# Característica de Euler (4-6+4=2)\n",
    "sc.carac_euler()"
   ]
  },
  {
   "cell_type": "code",
   "execution_count": 311,
   "metadata": {},
   "outputs": [
    {
     "data": {
      "text/plain": [
       "{(0, 1), (0, 1, 2), (0, 1, 2, 3), (0, 1, 3)}"
      ]
     },
     "execution_count": 311,
     "metadata": {},
     "output_type": "execute_result"
    }
   ],
   "source": [
    "# Estrella de la arista (0,1)\n",
    "sc.estrella([0,1])"
   ]
  },
  {
   "cell_type": "code",
   "execution_count": 312,
   "metadata": {},
   "outputs": [
    {
     "data": {
      "text/plain": [
       "{(0, 1), (0, 1, 2), (0, 1, 2, 3), (0, 1, 3)}"
      ]
     },
     "execution_count": 312,
     "metadata": {},
     "output_type": "execute_result"
    }
   ],
   "source": [
    "# Estrella cerrada de la arista (0,1)\n",
    "# Como el total está en la estrella, la estrella cerrada claramente es el total\n",
    "sc.estrella_cerrada([0,1])"
   ]
  },
  {
   "cell_type": "code",
   "execution_count": 313,
   "metadata": {},
   "outputs": [
    {
     "data": {
      "text/plain": [
       "{(2,), (2, 3), (3,)}"
      ]
     },
     "execution_count": 313,
     "metadata": {},
     "output_type": "execute_result"
    }
   ],
   "source": [
    "# Link de la arista (0,1)\n",
    "sc.link([0,1])"
   ]
  },
  {
   "cell_type": "code",
   "execution_count": 314,
   "metadata": {},
   "outputs": [
    {
     "name": "stdout",
     "output_type": "stream",
     "text": [
      "v0: (0,), v: (0,), existe_camino: True\n",
      "v0: (0,), v: (1,), existe_camino: True\n",
      "v0: (0,), v: (2,), existe_camino: True\n",
      "v0: (0,), v: (3,), existe_camino: True\n"
     ]
    },
    {
     "data": {
      "text/plain": [
       "1"
      ]
     },
     "execution_count": 314,
     "metadata": {},
     "output_type": "execute_result"
    }
   ],
   "source": [
    "# Componentes conexas\n",
    "sc.num_componentes_conexas()"
   ]
  },
  {
   "cell_type": "markdown",
   "metadata": {},
   "source": [
    "EJEMPLO 2: Borde del tetraedro"
   ]
  },
  {
   "cell_type": "code",
   "execution_count": 253,
   "metadata": {},
   "outputs": [],
   "source": [
    "sc1=sc.skeleton(2)"
   ]
  },
  {
   "cell_type": "code",
   "execution_count": 123,
   "metadata": {},
   "outputs": [
    {
     "name": "stdout",
     "output_type": "stream",
     "text": [
      "Caras de dim:  0\n",
      "(0,)\n",
      "(1,)\n",
      "(2,)\n",
      "(3,)\n",
      "Caras de dim:  1\n",
      "(0, 1)\n",
      "(1, 2)\n",
      "(0, 3)\n",
      "(2, 3)\n",
      "(0, 2)\n",
      "(1, 3)\n",
      "Caras de dim:  2\n",
      "(0, 1, 2)\n",
      "(0, 1, 3)\n",
      "(1, 2, 3)\n",
      "(0, 2, 3)\n"
     ]
    }
   ],
   "source": [
    "# Conjunto de todas las caras del complejo simplicial\n",
    "sc1.print_caras()"
   ]
  },
  {
   "cell_type": "code",
   "execution_count": 124,
   "metadata": {},
   "outputs": [
    {
     "data": {
      "text/plain": [
       "2"
      ]
     },
     "execution_count": 124,
     "metadata": {},
     "output_type": "execute_result"
    }
   ],
   "source": [
    "sc1.dim()"
   ]
  },
  {
   "cell_type": "code",
   "execution_count": 254,
   "metadata": {},
   "outputs": [
    {
     "data": {
      "text/plain": [
       "{(0,), (0, 1), (0, 1, 2), (0, 1, 3), (0, 2), (0, 2, 3), (0, 3)}"
      ]
     },
     "execution_count": 254,
     "metadata": {},
     "output_type": "execute_result"
    }
   ],
   "source": [
    "# Estrella del vértice 0\n",
    "sc1.estrella((0,))"
   ]
  },
  {
   "cell_type": "code",
   "execution_count": 255,
   "metadata": {},
   "outputs": [
    {
     "data": {
      "text/plain": [
       "{(0,), (0, 1), (0, 1, 2), (0, 1, 3), (0, 2), (0, 2, 3), (0, 3)}"
      ]
     },
     "execution_count": 255,
     "metadata": {},
     "output_type": "execute_result"
    }
   ],
   "source": [
    "sc1.estrella_cerrada((0,))"
   ]
  },
  {
   "cell_type": "code",
   "execution_count": 256,
   "metadata": {},
   "outputs": [
    {
     "data": {
      "text/plain": [
       "{(1,), (1, 2), (1, 3), (2,), (2, 3), (3,)}"
      ]
     },
     "execution_count": 256,
     "metadata": {},
     "output_type": "execute_result"
    }
   ],
   "source": [
    "# Link del vértice 0\n",
    "sc1.link((0,))"
   ]
  },
  {
   "cell_type": "code",
   "execution_count": 128,
   "metadata": {},
   "outputs": [
    {
     "data": {
      "text/plain": [
       "2"
      ]
     },
     "execution_count": 128,
     "metadata": {},
     "output_type": "execute_result"
    }
   ],
   "source": [
    "# Característica de Euler \n",
    "sc1.carac_euler()"
   ]
  },
  {
   "cell_type": "code",
   "execution_count": 91,
   "metadata": {},
   "outputs": [
    {
     "name": "stdout",
     "output_type": "stream",
     "text": [
      "v0: (0,), v: (0,), existe_camino: True\n",
      "v0: (0,), v: (1,), existe_camino: True\n",
      "v0: (0,), v: (2,), existe_camino: True\n",
      "v0: (0,), v: (3,), existe_camino: True\n"
     ]
    },
    {
     "data": {
      "text/plain": [
       "1"
      ]
     },
     "execution_count": 91,
     "metadata": {},
     "output_type": "execute_result"
    }
   ],
   "source": [
    "# Componentes conexas\n",
    "sc1.num_componentes_conexas()"
   ]
  },
  {
   "cell_type": "markdown",
   "metadata": {},
   "source": [
    "EJEMPLO 3"
   ]
  },
  {
   "cell_type": "code",
   "execution_count": 151,
   "metadata": {},
   "outputs": [],
   "source": [
    "sc2 =ComplejoSimplicial([(0,1),(1,2,3,4),(4,5),(5,6),(4,6),(6,7,8),(8,9)])"
   ]
  },
  {
   "cell_type": "code",
   "execution_count": 130,
   "metadata": {},
   "outputs": [
    {
     "name": "stdout",
     "output_type": "stream",
     "text": [
      "Caras de dim:  0\n",
      "(6,)\n",
      "(2,)\n",
      "(5,)\n",
      "(8,)\n",
      "(4,)\n",
      "(1,)\n",
      "(7,)\n",
      "(0,)\n",
      "(3,)\n",
      "(9,)\n",
      "Caras de dim:  1\n",
      "(0, 1)\n",
      "(2, 4)\n",
      "(1, 2)\n",
      "(3, 4)\n",
      "(6, 8)\n",
      "(4, 6)\n",
      "(1, 4)\n",
      "(2, 3)\n",
      "(6, 7)\n",
      "(4, 5)\n",
      "(8, 9)\n",
      "(5, 6)\n",
      "(1, 3)\n",
      "(7, 8)\n",
      "Caras de dim:  2\n",
      "(1, 2, 3)\n",
      "(1, 3, 4)\n",
      "(6, 7, 8)\n",
      "(2, 3, 4)\n",
      "(1, 2, 4)\n",
      "Caras de dim:  3\n",
      "(1, 2, 3, 4)\n"
     ]
    }
   ],
   "source": [
    "# Conjunto de todas las caras del complejo simplicial\n",
    "sc2.print_caras()"
   ]
  },
  {
   "cell_type": "code",
   "execution_count": 152,
   "metadata": {},
   "outputs": [
    {
     "data": {
      "text/plain": [
       "3"
      ]
     },
     "execution_count": 152,
     "metadata": {},
     "output_type": "execute_result"
    }
   ],
   "source": [
    "sc2.dim()"
   ]
  },
  {
   "cell_type": "code",
   "execution_count": 153,
   "metadata": {},
   "outputs": [
    {
     "name": "stdout",
     "output_type": "stream",
     "text": [
      "Caras de dim:  0\n",
      "(6,)\n",
      "(2,)\n",
      "(5,)\n",
      "(8,)\n",
      "(4,)\n",
      "(1,)\n",
      "(7,)\n",
      "(0,)\n",
      "(3,)\n",
      "(9,)\n",
      "Caras de dim:  1\n",
      "(0, 1)\n",
      "(2, 4)\n",
      "(1, 2)\n",
      "(3, 4)\n",
      "(6, 8)\n",
      "(4, 6)\n",
      "(1, 4)\n",
      "(2, 3)\n",
      "(6, 7)\n",
      "(4, 5)\n",
      "(8, 9)\n",
      "(5, 6)\n",
      "(1, 3)\n",
      "(7, 8)\n"
     ]
    }
   ],
   "source": [
    "# 1-esqueleto\n",
    "sc2.skeleton(1).print_caras()"
   ]
  },
  {
   "cell_type": "code",
   "execution_count": 154,
   "metadata": {},
   "outputs": [
    {
     "data": {
      "text/plain": [
       "{(1, 2, 3, 4),\n",
       " (1, 2, 4),\n",
       " (1, 3, 4),\n",
       " (1, 4),\n",
       " (2, 3, 4),\n",
       " (2, 4),\n",
       " (3, 4),\n",
       " (4,),\n",
       " (4, 5),\n",
       " (4, 6)}"
      ]
     },
     "execution_count": 154,
     "metadata": {},
     "output_type": "execute_result"
    }
   ],
   "source": [
    "# Estrella del vértice 4\n",
    "sc2.estrella((4,))"
   ]
  },
  {
   "cell_type": "code",
   "execution_count": 155,
   "metadata": {},
   "outputs": [
    {
     "data": {
      "text/plain": [
       "{(1,), (1, 2), (1, 2, 3), (1, 3), (2,), (2, 3), (3,), (5,), (6,)}"
      ]
     },
     "execution_count": 155,
     "metadata": {},
     "output_type": "execute_result"
    }
   ],
   "source": [
    "# Link del vértice 4\n",
    "sc2.link((4,))"
   ]
  },
  {
   "cell_type": "code",
   "execution_count": 156,
   "metadata": {},
   "outputs": [
    {
     "data": {
      "text/plain": [
       "0"
      ]
     },
     "execution_count": 156,
     "metadata": {},
     "output_type": "execute_result"
    }
   ],
   "source": [
    "# Característica de Euler\n",
    "sc2.carac_euler()"
   ]
  },
  {
   "cell_type": "code",
   "execution_count": 99,
   "metadata": {},
   "outputs": [
    {
     "name": "stdout",
     "output_type": "stream",
     "text": [
      "v0: (6,), v: (6,), existe_camino: True\n",
      "v0: (6,), v: (2,), existe_camino: True\n",
      "v0: (6,), v: (5,), existe_camino: True\n",
      "v0: (6,), v: (8,), existe_camino: True\n",
      "v0: (6,), v: (4,), existe_camino: True\n",
      "v0: (6,), v: (1,), existe_camino: True\n",
      "v0: (6,), v: (7,), existe_camino: True\n",
      "v0: (6,), v: (0,), existe_camino: True\n",
      "v0: (6,), v: (3,), existe_camino: True\n",
      "v0: (6,), v: (9,), existe_camino: True\n"
     ]
    },
    {
     "data": {
      "text/plain": [
       "1"
      ]
     },
     "execution_count": 99,
     "metadata": {},
     "output_type": "execute_result"
    }
   ],
   "source": [
    "# Componentes conexas\n",
    "sc2.num_componentes_conexas()"
   ]
  },
  {
   "cell_type": "markdown",
   "metadata": {},
   "source": [
    "EJEMPLO 4"
   ]
  },
  {
   "cell_type": "code",
   "execution_count": 100,
   "metadata": {},
   "outputs": [],
   "source": [
    "sc3 = sc2.skeleton(1)"
   ]
  },
  {
   "cell_type": "code",
   "execution_count": 101,
   "metadata": {},
   "outputs": [
    {
     "data": {
      "text/plain": [
       "-4"
      ]
     },
     "execution_count": 101,
     "metadata": {},
     "output_type": "execute_result"
    }
   ],
   "source": [
    "sc3.carac_euler()"
   ]
  },
  {
   "cell_type": "markdown",
   "metadata": {},
   "source": [
    "EJEMPLO 5"
   ]
  },
  {
   "cell_type": "markdown",
   "metadata": {},
   "source": [
    "EJEMPLO 6"
   ]
  },
  {
   "cell_type": "code",
   "execution_count": 315,
   "metadata": {},
   "outputs": [],
   "source": [
    "sc6 = ComplejoSimplicial([(1,2,4),(1,3,6),(1,4,6),(2,3,5),(2,4,5),(3,5,6)])"
   ]
  },
  {
   "cell_type": "code",
   "execution_count": 316,
   "metadata": {},
   "outputs": [
    {
     "data": {
      "text/plain": [
       "{(1,),\n",
       " (1, 2),\n",
       " (1, 2, 4),\n",
       " (1, 3),\n",
       " (1, 3, 6),\n",
       " (1, 4),\n",
       " (1, 4, 6),\n",
       " (1, 6),\n",
       " (2,),\n",
       " (2, 3),\n",
       " (2, 3, 5),\n",
       " (2, 4),\n",
       " (2, 4, 5),\n",
       " (2, 5),\n",
       " (3,),\n",
       " (3, 5),\n",
       " (3, 5, 6),\n",
       " (3, 6),\n",
       " (4,),\n",
       " (4, 5),\n",
       " (4, 6),\n",
       " (5,),\n",
       " (5, 6),\n",
       " (6,)}"
      ]
     },
     "execution_count": 316,
     "metadata": {},
     "output_type": "execute_result"
    }
   ],
   "source": [
    "sc6.face_set()"
   ]
  },
  {
   "cell_type": "code",
   "execution_count": 317,
   "metadata": {},
   "outputs": [
    {
     "data": {
      "text/plain": [
       "2"
      ]
     },
     "execution_count": 317,
     "metadata": {},
     "output_type": "execute_result"
    }
   ],
   "source": [
    "sc6.dim()"
   ]
  },
  {
   "cell_type": "code",
   "execution_count": 318,
   "metadata": {},
   "outputs": [
    {
     "data": {
      "text/plain": [
       "{(1, 2, 4), (1, 4), (1, 4, 6)}"
      ]
     },
     "execution_count": 318,
     "metadata": {},
     "output_type": "execute_result"
    }
   ],
   "source": [
    "sc6.estrella((1,4))"
   ]
  },
  {
   "cell_type": "code",
   "execution_count": 319,
   "metadata": {},
   "outputs": [
    {
     "data": {
      "text/plain": [
       "{(2,), (6,)}"
      ]
     },
     "execution_count": 319,
     "metadata": {},
     "output_type": "execute_result"
    }
   ],
   "source": [
    "sc6.link((1,4))"
   ]
  },
  {
   "cell_type": "code",
   "execution_count": 320,
   "metadata": {},
   "outputs": [
    {
     "data": {
      "text/plain": [
       "0"
      ]
     },
     "execution_count": 320,
     "metadata": {},
     "output_type": "execute_result"
    }
   ],
   "source": [
    "sc6.carac_euler()"
   ]
  },
  {
   "cell_type": "markdown",
   "metadata": {},
   "source": [
    "Hay hasta ejemplo 11..."
   ]
  },
  {
   "cell_type": "markdown",
   "metadata": {},
   "source": [
    "Filtración de complejos simpliciales"
   ]
  },
  {
   "cell_type": "code",
   "execution_count": 321,
   "metadata": {},
   "outputs": [
    {
     "data": {
      "text/plain": [
       "{((),),\n",
       " ((0,),),\n",
       " ((0, 1),),\n",
       " ((1,),),\n",
       " ((1, 2),),\n",
       " ((2,),),\n",
       " ((2, 3),),\n",
       " ((2, 3, 4),),\n",
       " ((2, 4),),\n",
       " ((3,),),\n",
       " ((3, 4),),\n",
       " ((4,),)}"
      ]
     },
     "execution_count": 321,
     "metadata": {},
     "output_type": "execute_result"
    }
   ],
   "source": [
    "sc = ComplejoSimplicial([])\n",
    "sc.insert([(0,1)], 1.0)\n",
    "sc.insert([(1,2), (2,3), (2,4)], 2.0)\n",
    "sc.insert([(3,4)], 3.0)\n",
    "sc.insert([(2,3,4)], 4.0)\n",
    "\n",
    "# TODO: No consigo que no sagan los \")\" que sobran\n",
    "sc.face_set()"
   ]
  },
  {
   "cell_type": "code",
   "execution_count": 322,
   "metadata": {},
   "outputs": [
    {
     "data": {
      "text/plain": [
       "2.0"
      ]
     },
     "execution_count": 322,
     "metadata": {},
     "output_type": "execute_result"
    }
   ],
   "source": [
    "# El siguiente comando devuelve el parámetro (umbral) para el que aparece un símplice. Vemos cuando aparece el vétice 3.\n",
    "sc.treshold((3,))"
   ]
  },
  {
   "cell_type": "code",
   "execution_count": 323,
   "metadata": {},
   "outputs": [
    {
     "data": {
      "text/plain": [
       "{(0,), (0, 1), (1,)}"
      ]
     },
     "execution_count": 323,
     "metadata": {},
     "output_type": "execute_result"
    }
   ],
   "source": [
    "K1=sc.filtracion(1.0)\n",
    "K2=sc.filtracion(2.0)\n",
    "K3=sc.filtracion(3.0)\n",
    "K4=sc.filtracion(4.0)\n",
    "\n",
    "K1.face_set()"
   ]
  },
  {
   "cell_type": "code",
   "execution_count": 324,
   "metadata": {},
   "outputs": [
    {
     "data": {
      "text/plain": [
       "{(0,), (0, 1), (1,), (1, 2), (2,), (2, 3), (2, 4), (3,), (4,)}"
      ]
     },
     "execution_count": 324,
     "metadata": {},
     "output_type": "execute_result"
    }
   ],
   "source": [
    "K2.face_set()"
   ]
  },
  {
   "cell_type": "code",
   "execution_count": 325,
   "metadata": {},
   "outputs": [
    {
     "data": {
      "text/plain": [
       "{(0,), (0, 1), (1,), (1, 2), (2,), (2, 3), (2, 4), (3,), (3, 4), (4,)}"
      ]
     },
     "execution_count": 325,
     "metadata": {},
     "output_type": "execute_result"
    }
   ],
   "source": [
    "K3.face_set()"
   ]
  },
  {
   "cell_type": "code",
   "execution_count": 326,
   "metadata": {},
   "outputs": [
    {
     "data": {
      "text/plain": [
       "{(0,),\n",
       " (0, 1),\n",
       " (1,),\n",
       " (1, 2),\n",
       " (2,),\n",
       " (2, 3),\n",
       " (2, 3, 4),\n",
       " (2, 4),\n",
       " (3,),\n",
       " (3, 4),\n",
       " (4,)}"
      ]
     },
     "execution_count": 326,
     "metadata": {},
     "output_type": "execute_result"
    }
   ],
   "source": [
    "K4.face_set()"
   ]
  }
 ],
 "metadata": {
  "kernelspec": {
   "display_name": "Python 3",
   "language": "python",
   "name": "python3"
  },
  "language_info": {
   "codemirror_mode": {
    "name": "ipython",
    "version": 3
   },
   "file_extension": ".py",
   "mimetype": "text/x-python",
   "name": "python",
   "nbconvert_exporter": "python",
   "pygments_lexer": "ipython3",
   "version": "3.12.0"
  }
 },
 "nbformat": 4,
 "nbformat_minor": 2
}
