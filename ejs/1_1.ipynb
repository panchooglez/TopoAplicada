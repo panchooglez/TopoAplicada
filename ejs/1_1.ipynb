{
 "cells": [
  {
   "cell_type": "markdown",
   "metadata": {},
   "source": [
    "Clase ComplejoSimplicial con sus métodos principales"
   ]
  },
  {
   "cell_type": "code",
   "execution_count": 232,
   "metadata": {},
   "outputs": [],
   "source": [
    "from itertools import chain, combinations\n",
    "\n",
    "class ComplejoSimplicial:\n",
    "\n",
    "    \"\"\"\n",
    "    Inicializa el complejo simplicial tomando como argumento lo que serían los maximales del poset\n",
    "    \"\"\"\n",
    "    def __init__(self, sim_maximales):\n",
    "        self.simplices = dict()\n",
    "        sim_derivados = self.derivar_simplices(sim_maximales)\n",
    "        for sim in sim_derivados:\n",
    "            if isinstance(sim, int):\n",
    "                dim = 0\n",
    "            else:    \n",
    "                dim = len(sim)-1\n",
    "            if dim not in self.simplices:\n",
    "                self.simplices[dim] = set()\n",
    "            self.simplices[dim].add(sim)\n",
    "\n",
    "    def derivar_simplices(self, simplices_maximales):\n",
    "        \"\"\"\n",
    "        Genera el complejo simplicial tomando todos los subconjuntos de los símplices maximales.\n",
    "        \n",
    "        Args:\n",
    "        simplices_maximales (list of tuples): Lista de símplices maximales.\n",
    "        \n",
    "        Returns:\n",
    "        set: El conjunto de todos los símplices en el complejo simplicial.\n",
    "        \"\"\"\n",
    "        complejo = set()\n",
    "        for simplejo in simplices_maximales:\n",
    "            complejo.update(self.potencia(simplejo))\n",
    "        return complejo\n",
    "    \n",
    "    def potencia(self, simplejo):\n",
    "        \"\"\"\n",
    "        Genera todos los subconjuntos de un simplejo (incluido el propio simplejo).\n",
    "        \n",
    "        Args:\n",
    "        simplejo (tuple): Un simplejo representado como una tupla de vértices.\n",
    "        \n",
    "        Returns:\n",
    "        set: Conjunto de todos los subconjuntos del simplejo.\n",
    "        \"\"\"\n",
    "        return set(chain.from_iterable(combinations(simplejo, r) for r in range(len(simplejo) + 1)))\n",
    "\n",
    "    \"\"\"\n",
    "    Devuelve la dimension del complejo simplicial\n",
    "    \"\"\"\n",
    "    def dim(self):\n",
    "        return max(self.simplices.keys())\n",
    "\n",
    "    \"\"\"\n",
    "    Devuelve una lista con las caras de un complejo simplicial para una dimension dada\n",
    "    \"\"\"\n",
    "    def caras(self, dim):\n",
    "        caras = []\n",
    "        for cara in self.simplices[dim]:\n",
    "            caras.append(cara)\n",
    "        return caras\n",
    "\n",
    "    \"\"\"\n",
    "    Devuelve todas las caras del complejo simplicial\n",
    "    \"\"\"\n",
    "    def face_set(self):\n",
    "        return set(cara for dim in self.simplices for cara in self.simplices[dim])\n",
    "\n",
    "    \"\"\"\n",
    "    Devuelve la estrella de un simplice dado\n",
    "    Se buscan las caras que contienen completamente a dicho simplice\n",
    "    \"\"\"\n",
    "    def estrella(self, simplice):\n",
    "        simplice = set(simplice)  # Convertimos el simplice en un conjunto(set), para poder hacer intersecciones\n",
    "        return set(cara for cara in self.face_set() if simplice.intersection(cara) == simplice)\n",
    "    \n",
    "    \"\"\"\n",
    "    Devuelve la estrella cerrada de un simplice dado.\n",
    "    La estrella cerrada es el menor subcomplejo simplicial que contiene a la estrella de un simplice dado.\n",
    "    \"\"\"\n",
    "    def estrella_cerrada(self, simplex):\n",
    "        # Obtenemos la estrella del simplex dado\n",
    "        estrella = self.estrella(simplex)\n",
    "        # Inicializamos la estrella cerrada como un conjunto vacío\n",
    "        estrella_cerrada = set()\n",
    "        cubiertos = set()  # Para rastrear qué simplices de la estrella están cubiertos\n",
    "        \n",
    "        # Recorremos todos los símplices de menor a mayor dimensión\n",
    "        for dim in sorted(self.simplices.keys()):\n",
    "            for cara in self.simplices[dim]:\n",
    "                cara_set = set(cara)\n",
    "                \n",
    "                # Verificamos si la cara cubre algunos simplices de la estrella\n",
    "                if any(set(s).issubset(cara_set) for s in estrella):\n",
    "                    estrella_cerrada.add(cara)\n",
    "                    # Actualizamos los simplices de la estrella que están cubiertos\n",
    "                    cubiertos.update(s for s in estrella if set(s).issubset(cara_set))\n",
    "                \n",
    "                # Si ya hemos cubierto todos los simplices de la estrella, podemos detenernos\n",
    "                if cubiertos == estrella:\n",
    "                    break\n",
    "        \n",
    "        return estrella_cerrada\n",
    "  \n",
    "    \"\"\"\n",
    "    Devuelve el link del simplice dado\n",
    "    El link de un simplice es el conjunto de simplices de la estrella cerrada con interseccion vacia con el simplice.\n",
    "    \"\"\"\n",
    "    def link(self, simplice):\n",
    "        # Obtenemos la estrella cerrada del simplice. Lo obtenemos como conjunto, lo pasamos a lista\n",
    "        estrella_cer = self.estrella_cerrada(simplice)\n",
    "        # Convertimos en complejo simplicial, para poder obtener todas sus caras\n",
    "        ec = ComplejoSimplicial(estrella_cer)\n",
    "        # Nos quedamos con los simplices de la estrella cerrada que no intersecan con el simplice del que queremos obtener el link\n",
    "        return set(cara for cara in ec.face_set() if not set(simplice).intersection(cara))\n",
    "\n",
    "    \"\"\"\n",
    "    Permite printear el complejo simplicial\n",
    "    \"\"\"\n",
    "    def __str__(self):\n",
    "        pass\n",
    "\n",
    "    def print_caras(self):\n",
    "        dim = self.dim()\n",
    "        for i in range(0,dim+1):\n",
    "            print(\"Caras de dim: \", i)\n",
    "            d_caras = self.caras(i)\n",
    "            for cara in d_caras:\n",
    "                print(cara)\n",
    "    \n",
    "    \"\"\"\n",
    "    Calcula la característica de Euler del complejo simplicial\n",
    "    \"\"\"\n",
    "    def carac_euler(self):\n",
    "        \"\"\" dim = self.dim()\n",
    "        res = 0\n",
    "        for i in range(0, dim+1):\n",
    "            if i % 2 == 0:\n",
    "                res += len(self.simplices[dim])\n",
    "            else:\n",
    "                res -= len(self.simplices[dim])\n",
    "        return res \"\"\"\n",
    "        # Forma más eficiente\n",
    "        return sum((-1)**k * len(self.simplices[k]) for k in range(self.dim()+1))\n",
    "    \n",
    "\n",
    "    \"\"\"\n",
    "    Devuelve el número de componentes conexas del complejo simplicial\n",
    "    \"\"\"\n",
    "    def num_componentes_conexas(self):\n",
    "        n = 0\n",
    "        vertices = list(self.simplices[0])\n",
    "        aristas = self.simplices[1]\n",
    "\n",
    "        v_conexos = []\n",
    "        v_inconexos = []\n",
    "        v0 = vertices[0]\n",
    "\n",
    "        while True:\n",
    "            #print('hola')\n",
    "            for v in vertices[:]:\n",
    "                print(f\"v0: {v0}, v: {v}, existe_camino: {self.existe_camino(v0[0], v[0], aristas)}\")\n",
    "                if self.existe_camino(v0[0], v[0], aristas):\n",
    "                    v_conexos.append(v)\n",
    "                    vertices.remove(v)\n",
    "                else:\n",
    "                    v_inconexos.append(v)\n",
    "            \n",
    "            n += 1\n",
    "            if len(vertices) == 0:\n",
    "                return n\n",
    "            v0 = vertices[0]\n",
    "            v_conexos = []\n",
    "            v_inconexos = []\n",
    "\n",
    "\n",
    "    def existe_camino(self, v, u, aristas):\n",
    "        #print(aristas)\n",
    "        # Crear el grafo como un diccionario de adyacencia\n",
    "        grafo = dict()\n",
    "        \n",
    "        # Construir el diccionario de adyacencia a partir de las aristas\n",
    "        for v1, v2 in aristas:\n",
    "            if v1 not in grafo.keys():\n",
    "                grafo[v1] = []\n",
    "            if v2 not in grafo:\n",
    "                grafo[v2] = []\n",
    "            grafo[v1].append(v2)\n",
    "            grafo[v2].append(v1)  # Como es un grafo no dirigido, añadir ambas conexiones\n",
    "\n",
    "        # Función recursiva para la búsqueda en profundidad (DFS)\n",
    "        def bep(vertice, visitados):\n",
    "            if vertice == u:\n",
    "                return True\n",
    "            visitados.append(vertice)  # Marcar el vértice como visitado\n",
    "            # Recorrer los vecinos\n",
    "            if vertice in grafo.keys():\n",
    "                for vecino in grafo[vertice]:  # Obtener vecinos del vértice\n",
    "                    if vecino not in visitados:  # Solo visitar los no visitados\n",
    "                        if bep(vecino, visitados):\n",
    "                            return True\n",
    "            \n",
    "            return False\n",
    "        \n",
    "        return bep(v, list())\n",
    "    \n",
    "    def skeleton(self, k):\n",
    "        \"\"\"\n",
    "        Devuelve el esqueleto de dimensión k del complejo simplicial.\n",
    "        \n",
    "        Args:\n",
    "        k (int): La dimensión máxima de los simplices en el esqueleto.\n",
    "        \n",
    "        Returns:\n",
    "        ComplejoSimplicial: Un nuevo complejo simplicial que es el esqueleto de dimensión k.\n",
    "        \"\"\"\n",
    "        # Recopilar todas las caras de dimensión k o menor\n",
    "        caras_k_o_menor = set()\n",
    "        for dim in range(k + 1):\n",
    "            if dim in self.simplices:\n",
    "                caras_k_o_menor.update(self.simplices[dim])\n",
    "        \n",
    "        # Crear un nuevo complejo simplicial con estas caras\n",
    "        return ComplejoSimplicial(list(caras_k_o_menor))\n",
    "    \n"
   ]
  },
  {
   "cell_type": "markdown",
   "metadata": {},
   "source": [
    "EJEMPLO 1: Tetraedro"
   ]
  },
  {
   "cell_type": "code",
   "execution_count": 233,
   "metadata": {},
   "outputs": [],
   "source": [
    "# Definimos un complejo simplicial\n",
    "sc = ComplejoSimplicial([(0,1,2,3)])"
   ]
  },
  {
   "cell_type": "code",
   "execution_count": 234,
   "metadata": {},
   "outputs": [
    {
     "name": "stdout",
     "output_type": "stream",
     "text": [
      "Caras de dim:  0\n",
      "(0,)\n",
      "(1,)\n",
      "(2,)\n",
      "(3,)\n",
      "Caras de dim:  1\n",
      "(0, 1)\n",
      "(1, 2)\n",
      "(0, 3)\n",
      "(2, 3)\n",
      "(0, 2)\n",
      "(1, 3)\n",
      "Caras de dim:  2\n",
      "(0, 1, 2)\n",
      "(0, 1, 3)\n",
      "(1, 2, 3)\n",
      "(0, 2, 3)\n",
      "Caras de dim:  3\n",
      "(0, 1, 2, 3)\n"
     ]
    }
   ],
   "source": [
    "# Conjunto de todas las caras del complejo simplicial\n",
    "sc.print_caras()"
   ]
  },
  {
   "cell_type": "code",
   "execution_count": 235,
   "metadata": {},
   "outputs": [
    {
     "data": {
      "text/plain": [
       "3"
      ]
     },
     "execution_count": 235,
     "metadata": {},
     "output_type": "execute_result"
    }
   ],
   "source": [
    "# Dimensión del complejo simplicial\n",
    "sc.dim()"
   ]
  },
  {
   "cell_type": "code",
   "execution_count": 236,
   "metadata": {},
   "outputs": [
    {
     "data": {
      "text/plain": [
       "[(0,), (1,), (2,), (3,)]"
      ]
     },
     "execution_count": 236,
     "metadata": {},
     "output_type": "execute_result"
    }
   ],
   "source": [
    "# Vértices del complejo simplicial\n",
    "sc.caras(0)"
   ]
  },
  {
   "cell_type": "code",
   "execution_count": 237,
   "metadata": {},
   "outputs": [
    {
     "data": {
      "text/plain": [
       "[(0, 1), (1, 2), (0, 3), (2, 3), (0, 2), (1, 3)]"
      ]
     },
     "execution_count": 237,
     "metadata": {},
     "output_type": "execute_result"
    }
   ],
   "source": [
    "# Aristas del complejo simplicial\n",
    "sc.caras(1)"
   ]
  },
  {
   "cell_type": "code",
   "execution_count": 238,
   "metadata": {},
   "outputs": [
    {
     "data": {
      "text/plain": [
       "[(0, 1, 2), (0, 1, 3), (1, 2, 3), (0, 2, 3)]"
      ]
     },
     "execution_count": 238,
     "metadata": {},
     "output_type": "execute_result"
    }
   ],
   "source": [
    "# 2-símplices del complejo simplicial\n",
    "sc.caras(2)"
   ]
  },
  {
   "cell_type": "code",
   "execution_count": 239,
   "metadata": {},
   "outputs": [
    {
     "data": {
      "text/plain": [
       "[(0, 1, 2, 3)]"
      ]
     },
     "execution_count": 239,
     "metadata": {},
     "output_type": "execute_result"
    }
   ],
   "source": [
    "# 3-símplices del complejo simplicial\n",
    "sc.caras(3)"
   ]
  },
  {
   "cell_type": "code",
   "execution_count": 240,
   "metadata": {},
   "outputs": [
    {
     "data": {
      "text/plain": [
       "1"
      ]
     },
     "execution_count": 240,
     "metadata": {},
     "output_type": "execute_result"
    }
   ],
   "source": [
    "# Característica de Euler (4-6+4=2)\n",
    "sc.carac_euler()"
   ]
  },
  {
   "cell_type": "code",
   "execution_count": 241,
   "metadata": {},
   "outputs": [
    {
     "data": {
      "text/plain": [
       "{(0, 1), (0, 1, 2), (0, 1, 2, 3), (0, 1, 3)}"
      ]
     },
     "execution_count": 241,
     "metadata": {},
     "output_type": "execute_result"
    }
   ],
   "source": [
    "# Estrella de la arista (0,1)\n",
    "sc.estrella([0,1])"
   ]
  },
  {
   "cell_type": "code",
   "execution_count": 242,
   "metadata": {},
   "outputs": [
    {
     "data": {
      "text/plain": [
       "{(0, 1), (0, 1, 2), (0, 1, 2, 3), (0, 1, 3)}"
      ]
     },
     "execution_count": 242,
     "metadata": {},
     "output_type": "execute_result"
    }
   ],
   "source": [
    "# Estrella cerrada de la arista (0,1)\n",
    "# Como el total está en la estrella, la estrella cerrada claramente es el total\n",
    "sc.estrella_cerrada([0,1])"
   ]
  },
  {
   "cell_type": "code",
   "execution_count": 243,
   "metadata": {},
   "outputs": [
    {
     "data": {
      "text/plain": [
       "{(), (2,), (2, 3), (3,)}"
      ]
     },
     "execution_count": 243,
     "metadata": {},
     "output_type": "execute_result"
    }
   ],
   "source": [
    "# Link de la arista (0,1)\n",
    "sc.link([0,1])"
   ]
  },
  {
   "cell_type": "code",
   "execution_count": 244,
   "metadata": {},
   "outputs": [
    {
     "name": "stdout",
     "output_type": "stream",
     "text": [
      "v0: (0,), v: (0,), existe_camino: True\n",
      "v0: (0,), v: (1,), existe_camino: True\n",
      "v0: (0,), v: (2,), existe_camino: True\n",
      "v0: (0,), v: (3,), existe_camino: True\n"
     ]
    },
    {
     "data": {
      "text/plain": [
       "1"
      ]
     },
     "execution_count": 244,
     "metadata": {},
     "output_type": "execute_result"
    }
   ],
   "source": [
    "# Componentes conexas\n",
    "sc.num_componentes_conexas()"
   ]
  },
  {
   "cell_type": "markdown",
   "metadata": {},
   "source": [
    "EJEMPLO 2: Borde del tetraedro"
   ]
  },
  {
   "cell_type": "code",
   "execution_count": 245,
   "metadata": {},
   "outputs": [],
   "source": [
    "sc1=sc.skeleton(2)"
   ]
  },
  {
   "cell_type": "code",
   "execution_count": 246,
   "metadata": {},
   "outputs": [
    {
     "name": "stdout",
     "output_type": "stream",
     "text": [
      "Caras de dim:  0\n",
      "(0,)\n",
      "(1,)\n",
      "(2,)\n",
      "(3,)\n",
      "Caras de dim:  1\n",
      "(0, 1)\n",
      "(1, 2)\n",
      "(0, 3)\n",
      "(2, 3)\n",
      "(0, 2)\n",
      "(1, 3)\n",
      "Caras de dim:  2\n",
      "(0, 1, 2)\n",
      "(0, 1, 3)\n",
      "(1, 2, 3)\n",
      "(0, 2, 3)\n"
     ]
    }
   ],
   "source": [
    "# Conjunto de todas las caras del complejo simplicial\n",
    "sc1.print_caras()"
   ]
  },
  {
   "cell_type": "code",
   "execution_count": 247,
   "metadata": {},
   "outputs": [
    {
     "data": {
      "text/plain": [
       "2"
      ]
     },
     "execution_count": 247,
     "metadata": {},
     "output_type": "execute_result"
    }
   ],
   "source": [
    "sc1.dim()"
   ]
  },
  {
   "cell_type": "code",
   "execution_count": 248,
   "metadata": {},
   "outputs": [
    {
     "data": {
      "text/plain": [
       "{(0,), (0, 1), (0, 1, 2), (0, 1, 3), (0, 2), (0, 2, 3), (0, 3)}"
      ]
     },
     "execution_count": 248,
     "metadata": {},
     "output_type": "execute_result"
    }
   ],
   "source": [
    "# Estrella del vértice 0\n",
    "sc1.estrella((0,))"
   ]
  },
  {
   "cell_type": "code",
   "execution_count": 249,
   "metadata": {},
   "outputs": [
    {
     "data": {
      "text/plain": [
       "{(0,), (0, 1), (0, 1, 2), (0, 1, 3), (0, 2), (0, 2, 3), (0, 3)}"
      ]
     },
     "execution_count": 249,
     "metadata": {},
     "output_type": "execute_result"
    }
   ],
   "source": [
    "sc1.estrella_cerrada((0,))"
   ]
  },
  {
   "cell_type": "code",
   "execution_count": 250,
   "metadata": {},
   "outputs": [
    {
     "data": {
      "text/plain": [
       "{(), (1,), (1, 2), (1, 3), (2,), (2, 3), (3,)}"
      ]
     },
     "execution_count": 250,
     "metadata": {},
     "output_type": "execute_result"
    }
   ],
   "source": [
    "# Link del vértice 0\n",
    "sc1.link((0,))"
   ]
  },
  {
   "cell_type": "code",
   "execution_count": 251,
   "metadata": {},
   "outputs": [
    {
     "data": {
      "text/plain": [
       "2"
      ]
     },
     "execution_count": 251,
     "metadata": {},
     "output_type": "execute_result"
    }
   ],
   "source": [
    "# Característica de Euler \n",
    "sc1.carac_euler()"
   ]
  },
  {
   "cell_type": "code",
   "execution_count": 252,
   "metadata": {},
   "outputs": [
    {
     "name": "stdout",
     "output_type": "stream",
     "text": [
      "v0: (0,), v: (0,), existe_camino: True\n",
      "v0: (0,), v: (1,), existe_camino: True\n",
      "v0: (0,), v: (2,), existe_camino: True\n",
      "v0: (0,), v: (3,), existe_camino: True\n"
     ]
    },
    {
     "data": {
      "text/plain": [
       "1"
      ]
     },
     "execution_count": 252,
     "metadata": {},
     "output_type": "execute_result"
    }
   ],
   "source": [
    "# Componentes conexas\n",
    "sc1.num_componentes_conexas()"
   ]
  },
  {
   "cell_type": "markdown",
   "metadata": {},
   "source": [
    "EJEMPLO 3"
   ]
  },
  {
   "cell_type": "code",
   "execution_count": 255,
   "metadata": {},
   "outputs": [],
   "source": [
    "sc2 =ComplejoSimplicial([(0,1),(1,2,3,4),(4,5),(5,6),(4,6),(6,7,8),(8,9)])"
   ]
  },
  {
   "cell_type": "code",
   "execution_count": 256,
   "metadata": {},
   "outputs": [
    {
     "name": "stdout",
     "output_type": "stream",
     "text": [
      "Caras de dim:  0\n",
      "(6,)\n",
      "(2,)\n",
      "(5,)\n",
      "(8,)\n",
      "(4,)\n",
      "(1,)\n",
      "(7,)\n",
      "(0,)\n",
      "(3,)\n",
      "(9,)\n",
      "Caras de dim:  1\n",
      "(0, 1)\n",
      "(2, 4)\n",
      "(1, 2)\n",
      "(3, 4)\n",
      "(6, 8)\n",
      "(4, 6)\n",
      "(1, 4)\n",
      "(2, 3)\n",
      "(6, 7)\n",
      "(4, 5)\n",
      "(8, 9)\n",
      "(5, 6)\n",
      "(1, 3)\n",
      "(7, 8)\n",
      "Caras de dim:  2\n",
      "(1, 2, 3)\n",
      "(1, 3, 4)\n",
      "(6, 7, 8)\n",
      "(2, 3, 4)\n",
      "(1, 2, 4)\n",
      "Caras de dim:  3\n",
      "(1, 2, 3, 4)\n"
     ]
    }
   ],
   "source": [
    "# Conjunto de todas las caras del complejo simplicial\n",
    "sc2.print_caras()"
   ]
  },
  {
   "cell_type": "code",
   "execution_count": 257,
   "metadata": {},
   "outputs": [
    {
     "data": {
      "text/plain": [
       "3"
      ]
     },
     "execution_count": 257,
     "metadata": {},
     "output_type": "execute_result"
    }
   ],
   "source": [
    "sc.dim()"
   ]
  },
  {
   "cell_type": "code",
   "execution_count": 259,
   "metadata": {},
   "outputs": [
    {
     "name": "stdout",
     "output_type": "stream",
     "text": [
      "Caras de dim:  0\n",
      "(6,)\n",
      "(2,)\n",
      "(5,)\n",
      "(8,)\n",
      "(4,)\n",
      "(1,)\n",
      "(7,)\n",
      "(0,)\n",
      "(3,)\n",
      "(9,)\n",
      "Caras de dim:  1\n",
      "(0, 1)\n",
      "(2, 4)\n",
      "(1, 2)\n",
      "(3, 4)\n",
      "(6, 8)\n",
      "(4, 6)\n",
      "(1, 4)\n",
      "(2, 3)\n",
      "(6, 7)\n",
      "(4, 5)\n",
      "(8, 9)\n",
      "(5, 6)\n",
      "(1, 3)\n",
      "(7, 8)\n"
     ]
    }
   ],
   "source": [
    "# 1-esqueleto\n",
    "sc2.skeleton(1).print_caras()"
   ]
  },
  {
   "cell_type": "code",
   "execution_count": 260,
   "metadata": {},
   "outputs": [
    {
     "data": {
      "text/plain": [
       "{(1, 2, 3, 4),\n",
       " (1, 2, 4),\n",
       " (1, 3, 4),\n",
       " (1, 4),\n",
       " (2, 3, 4),\n",
       " (2, 4),\n",
       " (3, 4),\n",
       " (4,),\n",
       " (4, 5),\n",
       " (4, 6)}"
      ]
     },
     "execution_count": 260,
     "metadata": {},
     "output_type": "execute_result"
    }
   ],
   "source": [
    "# Estrella del vértice 4\n",
    "sc2.estrella((4,))"
   ]
  },
  {
   "cell_type": "code",
   "execution_count": 261,
   "metadata": {},
   "outputs": [
    {
     "data": {
      "text/plain": [
       "{(), (1,), (1, 2), (1, 2, 3), (1, 3), (2,), (2, 3), (3,), (5,), (6,)}"
      ]
     },
     "execution_count": 261,
     "metadata": {},
     "output_type": "execute_result"
    }
   ],
   "source": [
    "# Link del vértice 4\n",
    "sc2.link((4,))"
   ]
  },
  {
   "cell_type": "code",
   "execution_count": 262,
   "metadata": {},
   "outputs": [
    {
     "data": {
      "text/plain": [
       "0"
      ]
     },
     "execution_count": 262,
     "metadata": {},
     "output_type": "execute_result"
    }
   ],
   "source": [
    "# Característica de Euler\n",
    "sc2.carac_euler()"
   ]
  },
  {
   "cell_type": "code",
   "execution_count": 263,
   "metadata": {},
   "outputs": [
    {
     "name": "stdout",
     "output_type": "stream",
     "text": [
      "v0: (6,), v: (6,), existe_camino: True\n",
      "v0: (6,), v: (2,), existe_camino: True\n",
      "v0: (6,), v: (5,), existe_camino: True\n",
      "v0: (6,), v: (8,), existe_camino: True\n",
      "v0: (6,), v: (4,), existe_camino: True\n",
      "v0: (6,), v: (1,), existe_camino: True\n",
      "v0: (6,), v: (7,), existe_camino: True\n",
      "v0: (6,), v: (0,), existe_camino: True\n",
      "v0: (6,), v: (3,), existe_camino: True\n",
      "v0: (6,), v: (9,), existe_camino: True\n"
     ]
    },
    {
     "data": {
      "text/plain": [
       "1"
      ]
     },
     "execution_count": 263,
     "metadata": {},
     "output_type": "execute_result"
    }
   ],
   "source": [
    "# Componentes conexas\n",
    "sc2.num_componentes_conexas()"
   ]
  },
  {
   "cell_type": "markdown",
   "metadata": {},
   "source": [
    "EJEMPLO 4"
   ]
  },
  {
   "cell_type": "code",
   "execution_count": 264,
   "metadata": {},
   "outputs": [],
   "source": [
    "sc3 = sc2.skeleton(1)"
   ]
  },
  {
   "cell_type": "code",
   "execution_count": 265,
   "metadata": {},
   "outputs": [
    {
     "data": {
      "text/plain": [
       "-4"
      ]
     },
     "execution_count": 265,
     "metadata": {},
     "output_type": "execute_result"
    }
   ],
   "source": [
    "sc3.carac_euler()"
   ]
  },
  {
   "cell_type": "markdown",
   "metadata": {},
   "source": [
    "EJEMPLO 5"
   ]
  },
  {
   "cell_type": "markdown",
   "metadata": {},
   "source": [
    "EJEMPLO 6"
   ]
  },
  {
   "cell_type": "code",
   "execution_count": 266,
   "metadata": {},
   "outputs": [],
   "source": [
    "sc6 = ComplejoSimplicial([(1,2,4),(1,3,6),(1,4,6),(2,3,5),(2,4,5),(3,5,6)])"
   ]
  },
  {
   "cell_type": "code",
   "execution_count": 267,
   "metadata": {},
   "outputs": [
    {
     "data": {
      "text/plain": [
       "{(),\n",
       " (1,),\n",
       " (1, 2),\n",
       " (1, 2, 4),\n",
       " (1, 3),\n",
       " (1, 3, 6),\n",
       " (1, 4),\n",
       " (1, 4, 6),\n",
       " (1, 6),\n",
       " (2,),\n",
       " (2, 3),\n",
       " (2, 3, 5),\n",
       " (2, 4),\n",
       " (2, 4, 5),\n",
       " (2, 5),\n",
       " (3,),\n",
       " (3, 5),\n",
       " (3, 5, 6),\n",
       " (3, 6),\n",
       " (4,),\n",
       " (4, 5),\n",
       " (4, 6),\n",
       " (5,),\n",
       " (5, 6),\n",
       " (6,)}"
      ]
     },
     "execution_count": 267,
     "metadata": {},
     "output_type": "execute_result"
    }
   ],
   "source": [
    "sc6.face_set()"
   ]
  },
  {
   "cell_type": "code",
   "execution_count": 268,
   "metadata": {},
   "outputs": [
    {
     "data": {
      "text/plain": [
       "2"
      ]
     },
     "execution_count": 268,
     "metadata": {},
     "output_type": "execute_result"
    }
   ],
   "source": [
    "sc6.dim()"
   ]
  },
  {
   "cell_type": "code",
   "execution_count": 269,
   "metadata": {},
   "outputs": [
    {
     "data": {
      "text/plain": [
       "{(1, 2, 4), (1, 4), (1, 4, 6)}"
      ]
     },
     "execution_count": 269,
     "metadata": {},
     "output_type": "execute_result"
    }
   ],
   "source": [
    "sc6.estrella((1,4))"
   ]
  },
  {
   "cell_type": "code",
   "execution_count": 271,
   "metadata": {},
   "outputs": [
    {
     "data": {
      "text/plain": [
       "{(), (2,), (6,)}"
      ]
     },
     "execution_count": 271,
     "metadata": {},
     "output_type": "execute_result"
    }
   ],
   "source": [
    "sc6.link((1,4))"
   ]
  },
  {
   "cell_type": "code",
   "execution_count": 272,
   "metadata": {},
   "outputs": [
    {
     "data": {
      "text/plain": [
       "0"
      ]
     },
     "execution_count": 272,
     "metadata": {},
     "output_type": "execute_result"
    }
   ],
   "source": [
    "sc6.carac_euler()"
   ]
  },
  {
   "cell_type": "markdown",
   "metadata": {},
   "source": [
    "Hay hasta ejemplo 11"
   ]
  }
 ],
 "metadata": {
  "kernelspec": {
   "display_name": "Python 3",
   "language": "python",
   "name": "python3"
  },
  "language_info": {
   "codemirror_mode": {
    "name": "ipython",
    "version": 3
   },
   "file_extension": ".py",
   "mimetype": "text/x-python",
   "name": "python",
   "nbconvert_exporter": "python",
   "pygments_lexer": "ipython3",
   "version": "3.12.0"
  }
 },
 "nbformat": 4,
 "nbformat_minor": 2
}
